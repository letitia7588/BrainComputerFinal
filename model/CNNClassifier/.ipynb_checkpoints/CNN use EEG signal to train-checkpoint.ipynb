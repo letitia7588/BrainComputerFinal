{
 "cells": [
  {
   "cell_type": "code",
   "execution_count": 1,
   "id": "6b2123c5",
   "metadata": {},
   "outputs": [],
   "source": [
    "#read data from csv\n",
    "import pandas as pd\n",
    "import matplotlib.pyplot as plt\n",
    "from scipy.fft import fft\n",
    "import numpy as np\n",
    "\n",
    "l1 = []\n",
    "# use all subjects(channel AF4)data and split it to subdata signal which time stamp is 1 sec\n",
    "for subjects in range(1, 29): \n",
    "    df = pd.read_csv(r'data\\(S{0})\\Preprocessed EEG Data\\.csv format\\S{0}G{1}AllChannels.csv'.format(str(subjects).zfill(2), str(1)))\n",
    "    for i in range(290): #290s 每秒作為一個data\n",
    "        l1.append([list(df['AF4'][i*128 : (i+1) * 128]), 0])\n",
    "\n",
    "    df = pd.read_csv(r'data\\(S{0})\\Preprocessed EEG Data\\.csv format\\S{0}G{1}AllChannels.csv'.format(str(subjects).zfill(2), str(2)))\n",
    "    for i in range(290): #290s 每秒作為一個data\n",
    "        l1.append([list(df['AF4'][i*128 : (i+1) * 128]), 1])\n",
    "\n",
    "    df = pd.read_csv(r'data\\(S{0})\\Preprocessed EEG Data\\.csv format\\S{0}G{1}AllChannels.csv'.format(str(subjects).zfill(2), str(3)))\n",
    "    for i in range(290): #290s 每秒作為一個data\n",
    "        l1.append([list(df['AF4'][i*128 : (i+1) * 128]), 2])\n",
    "\n",
    "    df = pd.read_csv(r'data\\(S{0})\\Preprocessed EEG Data\\.csv format\\S{0}G{1}AllChannels.csv'.format(str(subjects).zfill(2), str(4)))\n",
    "    for i in range(290): #290s 每秒作為一個data\n",
    "        l1.append([list(df['AF4'][i*128 : (i+1) * 128]), 3])"
   ]
  },
  {
   "cell_type": "code",
   "execution_count": 2,
   "id": "5be98a65",
   "metadata": {},
   "outputs": [],
   "source": [
    "#shuffle data\n",
    "import random\n",
    "random.shuffle(l1) "
   ]
  },
  {
   "cell_type": "code",
   "execution_count": 3,
   "id": "454acc3b",
   "metadata": {},
   "outputs": [],
   "source": [
    "# split train and test set\n",
    "import numpy as np\n",
    "# get train_x\n",
    "train_x = []\n",
    "for i in range(int(len(l1) * 0.8)):\n",
    "    train_x.append(l1[i][0])\n",
    "train_x = np.asarray(train_x)\n",
    "\n",
    "# get train_y\n",
    "train_y = []\n",
    "for i in range(int(len(l1) * 0.8)):\n",
    "    train_y.append(l1[i][1])\n",
    "train_y = np.asarray(train_y)\n",
    "\n",
    "# get test_x\n",
    "test_x = []\n",
    "for i in range(int(len(l1) * 0.8), len(l1)):\n",
    "    test_x.append(l1[i][0])\n",
    "test_x = np.asarray(test_x)\n",
    "\n",
    "# get test_y\n",
    "test_y = []\n",
    "for i in range(int(len(l1) * 0.8), len(l1)):\n",
    "    test_y.append(l1[i][1])\n",
    "test_y = np.asarray(test_y)"
   ]
  },
  {
   "cell_type": "code",
   "execution_count": 4,
   "id": "6c83be41",
   "metadata": {},
   "outputs": [
    {
     "name": "stdout",
     "output_type": "stream",
     "text": [
      "Model: \"sequential\"\n",
      "_________________________________________________________________\n",
      " Layer (type)                Output Shape              Param #   \n",
      "=================================================================\n",
      " conv1d (Conv1D)             (None, 126, 64)           256       \n",
      "                                                                 \n",
      " dropout (Dropout)           (None, 126, 64)           0         \n",
      "                                                                 \n",
      " conv1d_1 (Conv1D)           (None, 124, 128)          24704     \n",
      "                                                                 \n",
      " conv1d_2 (Conv1D)           (None, 122, 64)           24640     \n",
      "                                                                 \n",
      " conv1d_3 (Conv1D)           (None, 120, 64)           12352     \n",
      "                                                                 \n",
      " flatten (Flatten)           (None, 7680)              0         \n",
      "                                                                 \n",
      " dense (Dense)               (None, 4)                 30724     \n",
      "                                                                 \n",
      "=================================================================\n",
      "Total params: 92,676\n",
      "Trainable params: 92,676\n",
      "Non-trainable params: 0\n",
      "_________________________________________________________________\n"
     ]
    }
   ],
   "source": [
    "#　build a model\n",
    "import keras\n",
    "from keras.layers import Conv1D, Dense, Flatten, MaxPooling1D, Dropout\n",
    "\n",
    "import tensorflow as tf\n",
    "\n",
    "model = keras.models.Sequential()\n",
    "\n",
    "model.add(Conv1D(64, kernel_size=(3, ), activation='relu', input_shape = (128, 1)))\n",
    "\n",
    "model.add(Dropout(0.1)) #dropout 10% of data\n",
    "\n",
    "model.add(Conv1D(128, kernel_size=(3, ), activation='relu'))\n",
    "model.add(Conv1D(64, kernel_size=(3, ), activation='relu'))\n",
    "model.add(Conv1D(64, kernel_size=(3, ), activation='relu'))\n",
    "\n",
    "model.add(Flatten())\n",
    "\n",
    "model.add(Dense(4, activation='softmax'))\n",
    "model.summary()"
   ]
  },
  {
   "cell_type": "code",
   "execution_count": 5,
   "id": "9b8140c1",
   "metadata": {},
   "outputs": [
    {
     "name": "stdout",
     "output_type": "stream",
     "text": [
      "training feature size:  (25984, 128)\n",
      "training label size:  (25984,)\n",
      "testing feature size:  (6496, 128)\n",
      "testing label size:  (6496,)\n"
     ]
    }
   ],
   "source": [
    "# print shape of data set\n",
    "print(\"training feature size: \", train_x.shape)\n",
    "print(\"training label size: \", train_y.shape)\n",
    "print(\"testing feature size: \", test_x.shape)\n",
    "print(\"testing label size: \", test_y.shape)"
   ]
  },
  {
   "cell_type": "code",
   "execution_count": 6,
   "id": "3abe09d9",
   "metadata": {},
   "outputs": [
    {
     "name": "stdout",
     "output_type": "stream",
     "text": [
      "Epoch 1/30\n",
      "812/812 [==============================] - 10s 11ms/step - loss: 1.3925 - accuracy: 0.2564 - val_loss: 1.3826 - val_accuracy: 0.2622\n",
      "Epoch 2/30\n",
      "812/812 [==============================] - 9s 11ms/step - loss: 1.3800 - accuracy: 0.2721 - val_loss: 1.3770 - val_accuracy: 0.2765\n",
      "Epoch 3/30\n",
      "812/812 [==============================] - 9s 11ms/step - loss: 1.3666 - accuracy: 0.2952 - val_loss: 1.3618 - val_accuracy: 0.2823\n",
      "Epoch 4/30\n",
      "812/812 [==============================] - 9s 11ms/step - loss: 1.3453 - accuracy: 0.3185 - val_loss: 1.3483 - val_accuracy: 0.3051\n",
      "Epoch 5/30\n",
      "812/812 [==============================] - 9s 11ms/step - loss: 1.3176 - accuracy: 0.3487 - val_loss: 1.3387 - val_accuracy: 0.3171\n",
      "Epoch 6/30\n",
      "812/812 [==============================] - 9s 11ms/step - loss: 1.2751 - accuracy: 0.3839 - val_loss: 1.3200 - val_accuracy: 0.3504\n",
      "Epoch 7/30\n",
      "812/812 [==============================] - 9s 11ms/step - loss: 1.2169 - accuracy: 0.4309 - val_loss: 1.3200 - val_accuracy: 0.3752\n",
      "Epoch 8/30\n",
      "812/812 [==============================] - 9s 12ms/step - loss: 1.1489 - accuracy: 0.4799 - val_loss: 1.3150 - val_accuracy: 0.3916\n",
      "Epoch 9/30\n",
      "812/812 [==============================] - 9s 12ms/step - loss: 1.0708 - accuracy: 0.5331 - val_loss: 1.3381 - val_accuracy: 0.4139\n",
      "Epoch 10/30\n",
      "812/812 [==============================] - 9s 12ms/step - loss: 0.9938 - accuracy: 0.5760 - val_loss: 1.3494 - val_accuracy: 0.4340\n",
      "Epoch 11/30\n",
      "812/812 [==============================] - 9s 11ms/step - loss: 0.9201 - accuracy: 0.6157 - val_loss: 1.3813 - val_accuracy: 0.4381\n",
      "Epoch 12/30\n",
      "812/812 [==============================] - 10s 12ms/step - loss: 0.8506 - accuracy: 0.6509 - val_loss: 1.4090 - val_accuracy: 0.4503\n",
      "Epoch 13/30\n",
      "812/812 [==============================] - 9s 11ms/step - loss: 0.7932 - accuracy: 0.6803 - val_loss: 1.4356 - val_accuracy: 0.4726\n",
      "Epoch 14/30\n",
      "812/812 [==============================] - 9s 11ms/step - loss: 0.7297 - accuracy: 0.7105 - val_loss: 1.5298 - val_accuracy: 0.4769\n",
      "Epoch 15/30\n",
      "812/812 [==============================] - 9s 12ms/step - loss: 0.6834 - accuracy: 0.7318 - val_loss: 1.5185 - val_accuracy: 0.4938\n",
      "Epoch 16/30\n",
      "812/812 [==============================] - 9s 12ms/step - loss: 0.6327 - accuracy: 0.7549 - val_loss: 1.6070 - val_accuracy: 0.4994\n",
      "Epoch 17/30\n",
      "812/812 [==============================] - 9s 12ms/step - loss: 0.5960 - accuracy: 0.7732 - val_loss: 1.6063 - val_accuracy: 0.5094\n",
      "Epoch 18/30\n",
      "812/812 [==============================] - 9s 11ms/step - loss: 0.5565 - accuracy: 0.7871 - val_loss: 1.7490 - val_accuracy: 0.5159\n",
      "Epoch 19/30\n",
      "812/812 [==============================] - 9s 12ms/step - loss: 0.5285 - accuracy: 0.7976 - val_loss: 1.7060 - val_accuracy: 0.5265\n",
      "Epoch 20/30\n",
      "812/812 [==============================] - 9s 12ms/step - loss: 0.4992 - accuracy: 0.8087 - val_loss: 1.7636 - val_accuracy: 0.5282\n",
      "Epoch 21/30\n",
      "812/812 [==============================] - 9s 12ms/step - loss: 0.4702 - accuracy: 0.8219 - val_loss: 1.7634 - val_accuracy: 0.5416\n",
      "Epoch 22/30\n",
      "812/812 [==============================] - 9s 12ms/step - loss: 0.4456 - accuracy: 0.8327 - val_loss: 1.8237 - val_accuracy: 0.5479\n",
      "Epoch 23/30\n",
      "812/812 [==============================] - 9s 12ms/step - loss: 0.4228 - accuracy: 0.8415 - val_loss: 1.8925 - val_accuracy: 0.5537\n",
      "Epoch 24/30\n",
      "812/812 [==============================] - 9s 12ms/step - loss: 0.4048 - accuracy: 0.8493 - val_loss: 1.9468 - val_accuracy: 0.5587\n",
      "Epoch 25/30\n",
      "812/812 [==============================] - 10s 12ms/step - loss: 0.3910 - accuracy: 0.8536 - val_loss: 1.9919 - val_accuracy: 0.5630\n",
      "Epoch 26/30\n",
      "812/812 [==============================] - 9s 12ms/step - loss: 0.3824 - accuracy: 0.8569 - val_loss: 1.9699 - val_accuracy: 0.5648\n",
      "Epoch 27/30\n",
      "812/812 [==============================] - 9s 12ms/step - loss: 0.3585 - accuracy: 0.8646 - val_loss: 2.0681 - val_accuracy: 0.5760\n",
      "Epoch 28/30\n",
      "812/812 [==============================] - 9s 12ms/step - loss: 0.3425 - accuracy: 0.8745 - val_loss: 2.2429 - val_accuracy: 0.5676\n",
      "Epoch 29/30\n",
      "812/812 [==============================] - 9s 12ms/step - loss: 0.3246 - accuracy: 0.8797 - val_loss: 2.2308 - val_accuracy: 0.5751\n",
      "Epoch 30/30\n",
      "812/812 [==============================] - 9s 12ms/step - loss: 0.3256 - accuracy: 0.8817 - val_loss: 2.2178 - val_accuracy: 0.5700\n"
     ]
    }
   ],
   "source": [
    "model.compile(\n",
    "  'adam',\n",
    "  loss='categorical_crossentropy',\n",
    "  metrics=['accuracy'],\n",
    ")\n",
    "\n",
    "from tensorflow.keras.utils import to_categorical\n",
    "\n",
    "#每次做model fit最好重新運行全部cell\n",
    "history = model.fit(\n",
    "  train_x,\n",
    "  to_categorical(train_y),\n",
    "  epochs=30,\n",
    "  validation_data=(test_x, to_categorical(test_y)),\n",
    ")"
   ]
  },
  {
   "cell_type": "code",
   "execution_count": 7,
   "id": "723320d8",
   "metadata": {},
   "outputs": [
    {
     "data": {
      "image/png": "[encoded data removed]",
      "text/plain": [
       "<Figure size 432x288 with 1 Axes>"
      ]
     },
     "metadata": {
      "needs_background": "light"
     },
     "output_type": "display_data"
    },
    {
     "data": {
      "image/png": "[encoded data removed]",
      "text/plain": [
       "<Figure size 432x288 with 1 Axes>"
      ]
     },
     "metadata": {
      "needs_background": "light"
     },
     "output_type": "display_data"
    }
   ],
   "source": [
    "# summarize history for accuracy\n",
    "plt.plot(history.history['accuracy'])\n",
    "plt.plot(history.history['val_accuracy'])\n",
    "plt.title('model accuracy(no MaxPooling layer)')\n",
    "plt.ylabel('accuracy')\n",
    "plt.xlabel('epoch')\n",
    "plt.legend(['Train', 'Validation'], loc='upper left')\n",
    "plt.show()\n",
    "# summarize history for loss\n",
    "plt.plot(history.history['loss'])\n",
    "plt.plot(history.history['val_loss'])\n",
    "plt.title('model loss')\n",
    "plt.ylabel('loss')\n",
    "plt.xlabel('epoch')\n",
    "plt.legend(['Train', 'Validation'], loc='upper left')\n",
    "plt.show()"
   ]
  },
  {
   "cell_type": "code",
   "execution_count": 86,
   "id": "3e284a6a",
   "metadata": {},
   "outputs": [
    {
     "name": "stdout",
     "output_type": "stream",
     "text": [
      "203/203 [==============================] - 1s 4ms/step\n",
      "accuracy:  0.5700431034482759\n",
      "precision:  0.5697314293373466\n",
      "recall:  0.5695850329352139\n",
      "F1-score:  0.5696160462000721\n",
      "confusion matrix: \n",
      " [[945 247 251 210]\n",
      " [227 840 240 228]\n",
      " [225 228 984 242]\n",
      " [223 224 248 934]]\n"
     ]
    },
    {
     "data": {
      "image/png": "[encoded data removed]",
      "text/plain": [
       "<Figure size 576x432 with 2 Axes>"
      ]
     },
     "metadata": {
      "needs_background": "light"
     },
     "output_type": "display_data"
    }
   ],
   "source": [
    "from sklearn.metrics import precision_score, recall_score, f1_score, confusion_matrix\n",
    "import itertools\n",
    "\n",
    "test_predict = model.predict(test_x) # list content is probability of category\n",
    "test_predict = np.argmax(test_predict, axis=1) # content is category of data\n",
    "\n",
    "# print accuracy\n",
    "print(\"accuracy: \", np.equal(test_y, test_predict).mean())\n",
    "\n",
    "# print precision tp / (tp + fp)\n",
    "print(\"precision: \", precision_score(list(test_y), list(test_predict), average='macro'))\n",
    "\n",
    "# print recall tp / (tp + fn)\n",
    "print(\"recall: \", recall_score(list(test_y), list(test_predict), average='macro'))\n",
    "\n",
    "# print f1 score\n",
    "print(\"F1-score: \", f1_score(list(test_y), list(test_predict), average='macro'))\n",
    "\n",
    "# print confusion matrix\n",
    "target_names = ('boring', 'calm', 'horror', 'funny')\n",
    "cm = confusion_matrix(test_y, test_predict)\n",
    "print(\"confusion matrix: \\n\", cm)\n",
    "\n",
    "plt.figure(figsize=(8, 6))\n",
    "plt.imshow(cm, interpolation='nearest', cmap=plt.get_cmap('Oranges'))\n",
    "plt.title(\"confusion matrix\")\n",
    "plt.colorbar()\n",
    "\n",
    "thresh = cm.max() / 1.5\n",
    "for i, j in itertools.product(range(cm.shape[0]), range(cm.shape[1])):\n",
    "    plt.text(j, i, \"{}\".format(cm[i, j]),\n",
    "             horizontalalignment=\"center\",\n",
    "             color=\"white\" if cm[i, j] > thresh else \"black\")\n",
    "\n",
    "plt.tight_layout()\n",
    "plt.ylim(len(target_names)-0.5, -0.5)\n",
    "tick_marks = np.arange(len(target_names))\n",
    "plt.xticks(tick_marks, target_names)\n",
    "plt.yticks(tick_marks, target_names)\n",
    "plt.ylabel('True labels')\n",
    "plt.xlabel('Predicted labels')\n",
    "plt.show()"
   ]
  }
 ],
 "metadata": {
  "kernelspec": {
   "display_name": "Python 3 (ipykernel)",
   "language": "python",
   "name": "python3"
  },
  "language_info": {
   "codemirror_mode": {
    "name": "ipython",
    "version": 3
   },
   "file_extension": ".py",
   "mimetype": "text/x-python",
   "name": "python",
   "nbconvert_exporter": "python",
   "pygments_lexer": "ipython3",
   "version": "3.9.12"
  }
 },
 "nbformat": 4,
 "nbformat_minor": 5
}
